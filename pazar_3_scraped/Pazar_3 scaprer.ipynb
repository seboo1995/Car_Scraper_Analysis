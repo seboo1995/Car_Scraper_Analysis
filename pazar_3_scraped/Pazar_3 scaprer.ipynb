{
 "cells": [
  {
   "cell_type": "markdown",
   "metadata": {},
   "source": [
    "<h2> Pazar 3 Scaper </h3>"
   ]
  },
  {
   "cell_type": "code",
   "execution_count": 2,
   "metadata": {},
   "outputs": [],
   "source": [
    "import requests\n",
    "from bs4 import BeautifulSoup\n",
    "import time\n",
    "import pandas as pd"
   ]
  },
  {
   "cell_type": "code",
   "execution_count": 4,
   "metadata": {},
   "outputs": [],
   "source": [
    "base_url = \"https://www.pazar3.mk/oglasi/vozila/avtomobili/se-prodava\"\n",
    "next_page = 'https://www.pazar3.mk/oglasi/vozila/avtomobili/se-prodava?Page=2'\n",
    "num_pages = 10"
   ]
  },
  {
   "cell_type": "code",
   "execution_count": null,
   "metadata": {},
   "outputs": [
    {
     "name": "stdout",
     "output_type": "stream",
     "text": [
      "NEW PAGE ##################################################################\n",
      "NEW PAGE ##################################################################\n",
      "NEW PAGE ##################################################################\n",
      "NEW PAGE ##################################################################\n",
      "ERROR with link https://www.pazar3.mk/oglas/vozila/avtomobili/VW-Volkswagen/Golf/Golf/se-prodava/skopje/gazi-baba/vw-golf-6-1-6-benzin-75kw-avto-miro/3573296\n",
      "ERROR with link https://www.pazar3.mk/oglas/vozila/avtomobili/Opel/Corsa/se-prodava/skopje/gazi-baba/opel-corsa-1-3-cdti-avto-miro/3573295\n",
      "ERROR with link https://www.pazar3.mk/oglas/vozila/avtomobili/Fiat/Grande-Punto/se-prodava/skopje/gazi-baba/fiat-grande-punto-1-2-8-ventili-avto-miro/3573294\n",
      "ERROR with link https://www.pazar3.mk/oglas/vozila/avtomobili/Škoda/Yeti/se-prodava/skopje/gazi-baba/skoda-yeti-2-0-tdi-perfektna-avto-miro/3573293\n",
      "ERROR with link https://www.pazar3.mk/oglas/vozila/avtomobili/Audi/A3/se-prodava/skopje/gazi-baba/audi-a3-2-0-tdi-comonreal-atraction-navi-avto-miro/3573292\n",
      "ERROR with link https://www.pazar3.mk/oglas/vozila/avtomobili/Volvo/V40/se-prodava/skopje/skopje-opstina/volvo-v40-1-6-d2-momentum-ss/3573290\n",
      "NEW PAGE ##################################################################\n",
      "NEW PAGE ##################################################################\n",
      "NEW PAGE ##################################################################\n",
      "NEW PAGE ##################################################################\n",
      "NEW PAGE ##################################################################\n",
      "NEW PAGE ##################################################################\n",
      "NEW PAGE ##################################################################\n",
      "NEW PAGE ##################################################################\n",
      "NEW PAGE ##################################################################\n",
      "NEW PAGE ##################################################################\n",
      "NEW PAGE ##################################################################\n",
      "NEW PAGE ##################################################################\n",
      "NEW PAGE ##################################################################\n",
      "NEW PAGE ##################################################################\n",
      "NEW PAGE ##################################################################\n",
      "NEW PAGE ##################################################################\n",
      "NEW PAGE ##################################################################\n",
      "NEW PAGE ##################################################################\n",
      "NEW PAGE ##################################################################\n",
      "NEW PAGE ##################################################################\n",
      "NEW PAGE ##################################################################\n",
      "NEW PAGE ##################################################################\n",
      "NEW PAGE ##################################################################\n",
      "NEW PAGE ##################################################################\n",
      "NEW PAGE ##################################################################\n",
      "NEW PAGE ##################################################################\n",
      "NEW PAGE ##################################################################\n",
      "NEW PAGE ##################################################################\n",
      "NEW PAGE ##################################################################\n",
      "NEW PAGE ##################################################################\n"
     ]
    }
   ],
   "source": [
    "res = []\n",
    "for i in range(1,num_pages):\n",
    "    url = base_url+\"?Page=\"+str(i)\n",
    "    request = requests.get(url)\n",
    "    if request.status_code != 200:\n",
    "        print(\"Code not 200\")\n",
    "        continue\n",
    "    else:\n",
    "        soup = BeautifulSoup(request.text)\n",
    "        title = soup.select(\"h2 a\")\n",
    "        links = [\"https://www.pazar3.mk\"+i['href'] for i in title]\n",
    "        for link in links:\n",
    "            request_car = requests.get(link)\n",
    "            if request_car.status_code!= 200:\n",
    "                print(\"ERROR with link\",link)\n",
    "                continue\n",
    "            else:\n",
    "                soup_car = BeautifulSoup(request_car.text)\n",
    "                try:\n",
    "                    more_info = soup_car.select(\".card.mt-2 div.card-body\")\n",
    "                except:\n",
    "                    print(\"More info failed on link: \",link)\n",
    "                    continue\n",
    "                \n",
    "                try:\n",
    "                    text = soup_car.select(\".ad-details div .row .col-12 div\")\n",
    "                except:\n",
    "                    print(\"text failed on link:\",link)\n",
    "                \n",
    "                \n",
    "                try:\n",
    "                    price = soup_car.select(\".actual-price strong\")\n",
    "                except:\n",
    "                    print(\"price failed on link:\",link)\n",
    "                \n",
    "                final = {\n",
    "                    'more_info':more_info,\n",
    "                    'text':text,\n",
    "                    'price':price\n",
    "                }\n",
    "                res.append(final)\n",
    "                time.sleep(3)\n",
    "                print(\"NEW PAGE ##################################################################\")\n",
    "                    \n",
    "                    "
   ]
  },
  {
   "cell_type": "code",
   "execution_count": null,
   "metadata": {},
   "outputs": [],
   "source": []
  }
 ],
 "metadata": {
  "kernelspec": {
   "display_name": "Python 3",
   "language": "python",
   "name": "python3"
  },
  "language_info": {
   "codemirror_mode": {
    "name": "ipython",
    "version": 3
   },
   "file_extension": ".py",
   "mimetype": "text/x-python",
   "name": "python",
   "nbconvert_exporter": "python",
   "pygments_lexer": "ipython3",
   "version": "3.7.6"
  }
 },
 "nbformat": 4,
 "nbformat_minor": 4
}
