{
 "cells": [
  {
   "cell_type": "markdown",
   "metadata": {},
   "source": [
    "## Cleaning data"
   ]
  },
  {
   "cell_type": "code",
   "execution_count": 213,
   "metadata": {},
   "outputs": [],
   "source": [
    "import pandas as pd\n",
    "import numpy as np\n",
    "from bs4 import BeautifulSoup"
   ]
  },
  {
   "cell_type": "code",
   "execution_count": 214,
   "metadata": {},
   "outputs": [
    {
     "data": {
      "text/html": [
       "<div>\n",
       "<style scoped>\n",
       "    .dataframe tbody tr th:only-of-type {\n",
       "        vertical-align: middle;\n",
       "    }\n",
       "\n",
       "    .dataframe tbody tr th {\n",
       "        vertical-align: top;\n",
       "    }\n",
       "\n",
       "    .dataframe thead th {\n",
       "        text-align: right;\n",
       "    }\n",
       "</style>\n",
       "<table border=\"1\" class=\"dataframe\">\n",
       "  <thead>\n",
       "    <tr style=\"text-align: right;\">\n",
       "      <th></th>\n",
       "      <th>price</th>\n",
       "      <th>other_info</th>\n",
       "      <th>location</th>\n",
       "      <th>text</th>\n",
       "    </tr>\n",
       "  </thead>\n",
       "  <tbody>\n",
       "    <tr>\n",
       "      <th>0</th>\n",
       "      <td>[&lt;h5 class=\"mb-0 defaultBlue\" style=\"font-weig...</td>\n",
       "      <td>[&lt;div class=\"col-8\"&gt;\\n&lt;p class=\"mt-1\"&gt;\\n&lt;/p&gt;\\n...</td>\n",
       "      <td>[&lt;p&gt;Свети Николе / Свети Николе&lt;/p&gt;]</td>\n",
       "      <td>[&lt;p class=\"mt-3\" style=\"font-size:14px;\"&gt;\\r\\n ...</td>\n",
       "    </tr>\n",
       "    <tr>\n",
       "      <th>1</th>\n",
       "      <td>[&lt;h5 class=\"mb-0 defaultBlue\" style=\"font-weig...</td>\n",
       "      <td>[&lt;div class=\"col-8\"&gt;\\n&lt;p class=\"mt-1\"&gt;\\n&lt;/p&gt;\\n...</td>\n",
       "      <td>[&lt;p&gt;Илинден / Скопје&lt;/p&gt;]</td>\n",
       "      <td>[&lt;p class=\"mt-3\" style=\"font-size:14px;\"&gt;\\r\\n ...</td>\n",
       "    </tr>\n",
       "    <tr>\n",
       "      <th>2</th>\n",
       "      <td>[&lt;h5 class=\"mb-0 defaultBlue\" style=\"font-weig...</td>\n",
       "      <td>[&lt;div class=\"col-8\"&gt;\\n&lt;p class=\"mt-1\"&gt;\\n&lt;/p&gt;\\n...</td>\n",
       "      <td>[&lt;p class=\"text-secondary\"&gt;&lt;small&gt;Продавачот п...</td>\n",
       "      <td>[&lt;p class=\"mt-3\" style=\"font-size:14px;\"&gt;\\r\\n ...</td>\n",
       "    </tr>\n",
       "    <tr>\n",
       "      <th>3</th>\n",
       "      <td>[&lt;h5 class=\"mb-0 defaultBlue\" style=\"font-weig...</td>\n",
       "      <td>[&lt;div class=\"col-8\"&gt;\\n&lt;p class=\"mt-1\"&gt;\\n&lt;/p&gt;\\n...</td>\n",
       "      <td>[&lt;p&gt;Прилеп / Прилеп&lt;/p&gt;]</td>\n",
       "      <td>[&lt;p class=\"mt-3\" style=\"font-size:14px;\"&gt;\\r\\n ...</td>\n",
       "    </tr>\n",
       "    <tr>\n",
       "      <th>4</th>\n",
       "      <td>[&lt;h5 class=\"mb-0 defaultBlue\" style=\"font-weig...</td>\n",
       "      <td>[&lt;div class=\"col-8\"&gt;\\n&lt;p class=\"mt-1\"&gt;\\n&lt;/p&gt;\\n...</td>\n",
       "      <td>[&lt;p&gt;Гостивар / Гостивар&lt;/p&gt;]</td>\n",
       "      <td>[&lt;p class=\"mt-3\" style=\"font-size:14px;\"&gt;\\r\\n ...</td>\n",
       "    </tr>\n",
       "  </tbody>\n",
       "</table>\n",
       "</div>"
      ],
      "text/plain": [
       "                                               price  \\\n",
       "0  [<h5 class=\"mb-0 defaultBlue\" style=\"font-weig...   \n",
       "1  [<h5 class=\"mb-0 defaultBlue\" style=\"font-weig...   \n",
       "2  [<h5 class=\"mb-0 defaultBlue\" style=\"font-weig...   \n",
       "3  [<h5 class=\"mb-0 defaultBlue\" style=\"font-weig...   \n",
       "4  [<h5 class=\"mb-0 defaultBlue\" style=\"font-weig...   \n",
       "\n",
       "                                          other_info  \\\n",
       "0  [<div class=\"col-8\">\\n<p class=\"mt-1\">\\n</p>\\n...   \n",
       "1  [<div class=\"col-8\">\\n<p class=\"mt-1\">\\n</p>\\n...   \n",
       "2  [<div class=\"col-8\">\\n<p class=\"mt-1\">\\n</p>\\n...   \n",
       "3  [<div class=\"col-8\">\\n<p class=\"mt-1\">\\n</p>\\n...   \n",
       "4  [<div class=\"col-8\">\\n<p class=\"mt-1\">\\n</p>\\n...   \n",
       "\n",
       "                                            location  \\\n",
       "0               [<p>Свети Николе / Свети Николе</p>]   \n",
       "1                          [<p>Илинден / Скопје</p>]   \n",
       "2  [<p class=\"text-secondary\"><small>Продавачот п...   \n",
       "3                           [<p>Прилеп / Прилеп</p>]   \n",
       "4                       [<p>Гостивар / Гостивар</p>]   \n",
       "\n",
       "                                                text  \n",
       "0  [<p class=\"mt-3\" style=\"font-size:14px;\">\\r\\n ...  \n",
       "1  [<p class=\"mt-3\" style=\"font-size:14px;\">\\r\\n ...  \n",
       "2  [<p class=\"mt-3\" style=\"font-size:14px;\">\\r\\n ...  \n",
       "3  [<p class=\"mt-3\" style=\"font-size:14px;\">\\r\\n ...  \n",
       "4  [<p class=\"mt-3\" style=\"font-size:14px;\">\\r\\n ...  "
      ]
     },
     "execution_count": 214,
     "metadata": {},
     "output_type": "execute_result"
    }
   ],
   "source": [
    "df = pd.read_csv(\"../data/Reklama_5.csv\")\n",
    "df.head()"
   ]
  },
  {
   "cell_type": "markdown",
   "metadata": {},
   "source": [
    "### Fix price"
   ]
  },
  {
   "cell_type": "code",
   "execution_count": 215,
   "metadata": {},
   "outputs": [],
   "source": [
    "def fix_price(j):\n",
    "    soup = BeautifulSoup(j.price)\n",
    "    try:\n",
    "        return int((soup.select('h5')[0].text.strip().replace(\" \",\"\").replace(\"€\",\"\").replace(\"\\r\\n\",\"\").replace(\".\",\"\").replace(\"МКД\",\"\")))\n",
    "    except IndexError:\n",
    "        print(\"index error\")\n",
    "        return np.nan\n",
    "     "
   ]
  },
  {
   "cell_type": "code",
   "execution_count": 216,
   "metadata": {},
   "outputs": [
    {
     "name": "stdout",
     "output_type": "stream",
     "text": [
      "index error\n",
      "index error\n",
      "index error\n",
      "index error\n",
      "index error\n",
      "index error\n",
      "index error\n",
      "index error\n",
      "index error\n",
      "index error\n",
      "index error\n",
      "index error\n",
      "index error\n",
      "index error\n",
      "index error\n",
      "index error\n",
      "index error\n",
      "index error\n",
      "index error\n",
      "index error\n",
      "index error\n",
      "index error\n",
      "index error\n",
      "index error\n",
      "index error\n",
      "index error\n",
      "index error\n",
      "index error\n",
      "index error\n",
      "index error\n",
      "index error\n",
      "index error\n",
      "index error\n",
      "index error\n",
      "index error\n",
      "index error\n",
      "index error\n",
      "index error\n",
      "index error\n",
      "index error\n",
      "index error\n",
      "index error\n",
      "index error\n"
     ]
    }
   ],
   "source": [
    "df.price = df.apply(fix_price,axis=1)"
   ]
  },
  {
   "cell_type": "markdown",
   "metadata": {},
   "source": [
    "## I dont think there is a car with price =  1"
   ]
  },
  {
   "cell_type": "code",
   "execution_count": 217,
   "metadata": {},
   "outputs": [],
   "source": [
    "df.price = df.price.replace(1,np.nan)"
   ]
  },
  {
   "cell_type": "code",
   "execution_count": 218,
   "metadata": {},
   "outputs": [
    {
     "data": {
      "text/html": [
       "<div>\n",
       "<style scoped>\n",
       "    .dataframe tbody tr th:only-of-type {\n",
       "        vertical-align: middle;\n",
       "    }\n",
       "\n",
       "    .dataframe tbody tr th {\n",
       "        vertical-align: top;\n",
       "    }\n",
       "\n",
       "    .dataframe thead th {\n",
       "        text-align: right;\n",
       "    }\n",
       "</style>\n",
       "<table border=\"1\" class=\"dataframe\">\n",
       "  <thead>\n",
       "    <tr style=\"text-align: right;\">\n",
       "      <th></th>\n",
       "      <th>price</th>\n",
       "      <th>other_info</th>\n",
       "      <th>location</th>\n",
       "      <th>text</th>\n",
       "    </tr>\n",
       "  </thead>\n",
       "  <tbody>\n",
       "    <tr>\n",
       "      <th>0</th>\n",
       "      <td>4200.0</td>\n",
       "      <td>[&lt;div class=\"col-8\"&gt;\\n&lt;p class=\"mt-1\"&gt;\\n&lt;/p&gt;\\n...</td>\n",
       "      <td>[&lt;p&gt;Свети Николе / Свети Николе&lt;/p&gt;]</td>\n",
       "      <td>[&lt;p class=\"mt-3\" style=\"font-size:14px;\"&gt;\\r\\n ...</td>\n",
       "    </tr>\n",
       "    <tr>\n",
       "      <th>1</th>\n",
       "      <td>NaN</td>\n",
       "      <td>[&lt;div class=\"col-8\"&gt;\\n&lt;p class=\"mt-1\"&gt;\\n&lt;/p&gt;\\n...</td>\n",
       "      <td>[&lt;p&gt;Илинден / Скопје&lt;/p&gt;]</td>\n",
       "      <td>[&lt;p class=\"mt-3\" style=\"font-size:14px;\"&gt;\\r\\n ...</td>\n",
       "    </tr>\n",
       "    <tr>\n",
       "      <th>2</th>\n",
       "      <td>16999.0</td>\n",
       "      <td>[&lt;div class=\"col-8\"&gt;\\n&lt;p class=\"mt-1\"&gt;\\n&lt;/p&gt;\\n...</td>\n",
       "      <td>[&lt;p class=\"text-secondary\"&gt;&lt;small&gt;Продавачот п...</td>\n",
       "      <td>[&lt;p class=\"mt-3\" style=\"font-size:14px;\"&gt;\\r\\n ...</td>\n",
       "    </tr>\n",
       "    <tr>\n",
       "      <th>3</th>\n",
       "      <td>NaN</td>\n",
       "      <td>[&lt;div class=\"col-8\"&gt;\\n&lt;p class=\"mt-1\"&gt;\\n&lt;/p&gt;\\n...</td>\n",
       "      <td>[&lt;p&gt;Прилеп / Прилеп&lt;/p&gt;]</td>\n",
       "      <td>[&lt;p class=\"mt-3\" style=\"font-size:14px;\"&gt;\\r\\n ...</td>\n",
       "    </tr>\n",
       "    <tr>\n",
       "      <th>4</th>\n",
       "      <td>8900.0</td>\n",
       "      <td>[&lt;div class=\"col-8\"&gt;\\n&lt;p class=\"mt-1\"&gt;\\n&lt;/p&gt;\\n...</td>\n",
       "      <td>[&lt;p&gt;Гостивар / Гостивар&lt;/p&gt;]</td>\n",
       "      <td>[&lt;p class=\"mt-3\" style=\"font-size:14px;\"&gt;\\r\\n ...</td>\n",
       "    </tr>\n",
       "    <tr>\n",
       "      <th>...</th>\n",
       "      <td>...</td>\n",
       "      <td>...</td>\n",
       "      <td>...</td>\n",
       "      <td>...</td>\n",
       "    </tr>\n",
       "    <tr>\n",
       "      <th>382</th>\n",
       "      <td>1600.0</td>\n",
       "      <td>[&lt;div class=\"col-8\"&gt;\\n&lt;p class=\"mt-1\"&gt;\\n&lt;/p&gt;\\n...</td>\n",
       "      <td>[&lt;p&gt;Долнени / Прилеп&lt;/p&gt;]</td>\n",
       "      <td>[&lt;p class=\"mt-3\" style=\"font-size:14px;\"&gt;\\r\\n ...</td>\n",
       "    </tr>\n",
       "    <tr>\n",
       "      <th>383</th>\n",
       "      <td>4150.0</td>\n",
       "      <td>[&lt;div class=\"col-8\"&gt;\\n&lt;p class=\"mt-1\"&gt;\\n&lt;/p&gt;\\n...</td>\n",
       "      <td>[&lt;p&gt;Охрид / Охрид&lt;/p&gt;]</td>\n",
       "      <td>[&lt;p class=\"mt-3\" style=\"font-size:14px;\"&gt;\\r\\n ...</td>\n",
       "    </tr>\n",
       "    <tr>\n",
       "      <th>384</th>\n",
       "      <td>NaN</td>\n",
       "      <td>[&lt;div class=\"col-8\"&gt;\\n&lt;p class=\"mt-1\"&gt;\\n&lt;/p&gt;\\n...</td>\n",
       "      <td>[&lt;p&gt;Автокоманда / Скопје&lt;/p&gt;]</td>\n",
       "      <td>[&lt;p class=\"mt-3\" style=\"font-size:14px;\"&gt;\\r\\n ...</td>\n",
       "    </tr>\n",
       "    <tr>\n",
       "      <th>385</th>\n",
       "      <td>2450.0</td>\n",
       "      <td>[&lt;div class=\"col-8\"&gt;\\n&lt;p class=\"mt-1\"&gt;\\n&lt;/p&gt;\\n...</td>\n",
       "      <td>[&lt;p&gt;Тетово / Тетово&lt;/p&gt;]</td>\n",
       "      <td>[&lt;p class=\"mt-3\" style=\"font-size:14px;\"&gt;\\r\\n ...</td>\n",
       "    </tr>\n",
       "    <tr>\n",
       "      <th>386</th>\n",
       "      <td>4800.0</td>\n",
       "      <td>[&lt;div class=\"col-8\"&gt;\\n&lt;p class=\"mt-1\"&gt;\\n&lt;/p&gt;\\n...</td>\n",
       "      <td>[&lt;p&gt;Охрид / Охрид&lt;/p&gt;]</td>\n",
       "      <td>[&lt;p class=\"mt-3\" style=\"font-size:14px;\"&gt;\\r\\n ...</td>\n",
       "    </tr>\n",
       "  </tbody>\n",
       "</table>\n",
       "<p>387 rows × 4 columns</p>\n",
       "</div>"
      ],
      "text/plain": [
       "       price                                         other_info  \\\n",
       "0     4200.0  [<div class=\"col-8\">\\n<p class=\"mt-1\">\\n</p>\\n...   \n",
       "1        NaN  [<div class=\"col-8\">\\n<p class=\"mt-1\">\\n</p>\\n...   \n",
       "2    16999.0  [<div class=\"col-8\">\\n<p class=\"mt-1\">\\n</p>\\n...   \n",
       "3        NaN  [<div class=\"col-8\">\\n<p class=\"mt-1\">\\n</p>\\n...   \n",
       "4     8900.0  [<div class=\"col-8\">\\n<p class=\"mt-1\">\\n</p>\\n...   \n",
       "..       ...                                                ...   \n",
       "382   1600.0  [<div class=\"col-8\">\\n<p class=\"mt-1\">\\n</p>\\n...   \n",
       "383   4150.0  [<div class=\"col-8\">\\n<p class=\"mt-1\">\\n</p>\\n...   \n",
       "384      NaN  [<div class=\"col-8\">\\n<p class=\"mt-1\">\\n</p>\\n...   \n",
       "385   2450.0  [<div class=\"col-8\">\\n<p class=\"mt-1\">\\n</p>\\n...   \n",
       "386   4800.0  [<div class=\"col-8\">\\n<p class=\"mt-1\">\\n</p>\\n...   \n",
       "\n",
       "                                              location  \\\n",
       "0                 [<p>Свети Николе / Свети Николе</p>]   \n",
       "1                            [<p>Илинден / Скопје</p>]   \n",
       "2    [<p class=\"text-secondary\"><small>Продавачот п...   \n",
       "3                             [<p>Прилеп / Прилеп</p>]   \n",
       "4                         [<p>Гостивар / Гостивар</p>]   \n",
       "..                                                 ...   \n",
       "382                          [<p>Долнени / Прилеп</p>]   \n",
       "383                             [<p>Охрид / Охрид</p>]   \n",
       "384                      [<p>Автокоманда / Скопје</p>]   \n",
       "385                           [<p>Тетово / Тетово</p>]   \n",
       "386                             [<p>Охрид / Охрид</p>]   \n",
       "\n",
       "                                                  text  \n",
       "0    [<p class=\"mt-3\" style=\"font-size:14px;\">\\r\\n ...  \n",
       "1    [<p class=\"mt-3\" style=\"font-size:14px;\">\\r\\n ...  \n",
       "2    [<p class=\"mt-3\" style=\"font-size:14px;\">\\r\\n ...  \n",
       "3    [<p class=\"mt-3\" style=\"font-size:14px;\">\\r\\n ...  \n",
       "4    [<p class=\"mt-3\" style=\"font-size:14px;\">\\r\\n ...  \n",
       "..                                                 ...  \n",
       "382  [<p class=\"mt-3\" style=\"font-size:14px;\">\\r\\n ...  \n",
       "383  [<p class=\"mt-3\" style=\"font-size:14px;\">\\r\\n ...  \n",
       "384  [<p class=\"mt-3\" style=\"font-size:14px;\">\\r\\n ...  \n",
       "385  [<p class=\"mt-3\" style=\"font-size:14px;\">\\r\\n ...  \n",
       "386  [<p class=\"mt-3\" style=\"font-size:14px;\">\\r\\n ...  \n",
       "\n",
       "[387 rows x 4 columns]"
      ]
     },
     "execution_count": 218,
     "metadata": {},
     "output_type": "execute_result"
    }
   ],
   "source": [
    "df"
   ]
  },
  {
   "cell_type": "markdown",
   "metadata": {},
   "source": [
    "## Fix other info"
   ]
  },
  {
   "cell_type": "code",
   "execution_count": 219,
   "metadata": {},
   "outputs": [
    {
     "data": {
      "text/plain": [
       "12    381\n",
       "11      6\n",
       "Name: other_info, dtype: int64"
      ]
     },
     "execution_count": 219,
     "metadata": {},
     "output_type": "execute_result"
    }
   ],
   "source": [
    "df.other_info.apply(lambda x: len(BeautifulSoup(x).select(\"div.col-7\"))).value_counts()"
   ]
  },
  {
   "cell_type": "markdown",
   "metadata": {},
   "source": [
    "### It seems that 6 cars do not contain all the info like the other"
   ]
  },
  {
   "cell_type": "code",
   "execution_count": 220,
   "metadata": {},
   "outputs": [
    {
     "data": {
      "text/html": [
       "<div>\n",
       "<style scoped>\n",
       "    .dataframe tbody tr th:only-of-type {\n",
       "        vertical-align: middle;\n",
       "    }\n",
       "\n",
       "    .dataframe tbody tr th {\n",
       "        vertical-align: top;\n",
       "    }\n",
       "\n",
       "    .dataframe thead th {\n",
       "        text-align: right;\n",
       "    }\n",
       "</style>\n",
       "<table border=\"1\" class=\"dataframe\">\n",
       "  <thead>\n",
       "    <tr style=\"text-align: right;\">\n",
       "      <th></th>\n",
       "      <th>price</th>\n",
       "      <th>other_info</th>\n",
       "      <th>location</th>\n",
       "      <th>text</th>\n",
       "      <th>make</th>\n",
       "    </tr>\n",
       "  </thead>\n",
       "  <tbody>\n",
       "    <tr>\n",
       "      <th>0</th>\n",
       "      <td>4200.0</td>\n",
       "      <td>[&lt;div class=\"col-8\"&gt;\\n&lt;p class=\"mt-1\"&gt;\\n&lt;/p&gt;\\n...</td>\n",
       "      <td>[&lt;p&gt;Свети Николе / Свети Николе&lt;/p&gt;]</td>\n",
       "      <td>[&lt;p class=\"mt-3\" style=\"font-size:14px;\"&gt;\\r\\n ...</td>\n",
       "      <td>VW Volkswagen</td>\n",
       "    </tr>\n",
       "    <tr>\n",
       "      <th>1</th>\n",
       "      <td>NaN</td>\n",
       "      <td>[&lt;div class=\"col-8\"&gt;\\n&lt;p class=\"mt-1\"&gt;\\n&lt;/p&gt;\\n...</td>\n",
       "      <td>[&lt;p&gt;Илинден / Скопје&lt;/p&gt;]</td>\n",
       "      <td>[&lt;p class=\"mt-3\" style=\"font-size:14px;\"&gt;\\r\\n ...</td>\n",
       "      <td>Seat</td>\n",
       "    </tr>\n",
       "    <tr>\n",
       "      <th>2</th>\n",
       "      <td>16999.0</td>\n",
       "      <td>[&lt;div class=\"col-8\"&gt;\\n&lt;p class=\"mt-1\"&gt;\\n&lt;/p&gt;\\n...</td>\n",
       "      <td>[&lt;p class=\"text-secondary\"&gt;&lt;small&gt;Продавачот п...</td>\n",
       "      <td>[&lt;p class=\"mt-3\" style=\"font-size:14px;\"&gt;\\r\\n ...</td>\n",
       "      <td>Audi</td>\n",
       "    </tr>\n",
       "    <tr>\n",
       "      <th>3</th>\n",
       "      <td>NaN</td>\n",
       "      <td>[&lt;div class=\"col-8\"&gt;\\n&lt;p class=\"mt-1\"&gt;\\n&lt;/p&gt;\\n...</td>\n",
       "      <td>[&lt;p&gt;Прилеп / Прилеп&lt;/p&gt;]</td>\n",
       "      <td>[&lt;p class=\"mt-3\" style=\"font-size:14px;\"&gt;\\r\\n ...</td>\n",
       "      <td>Opel</td>\n",
       "    </tr>\n",
       "    <tr>\n",
       "      <th>4</th>\n",
       "      <td>8900.0</td>\n",
       "      <td>[&lt;div class=\"col-8\"&gt;\\n&lt;p class=\"mt-1\"&gt;\\n&lt;/p&gt;\\n...</td>\n",
       "      <td>[&lt;p&gt;Гостивар / Гостивар&lt;/p&gt;]</td>\n",
       "      <td>[&lt;p class=\"mt-3\" style=\"font-size:14px;\"&gt;\\r\\n ...</td>\n",
       "      <td>Ford</td>\n",
       "    </tr>\n",
       "    <tr>\n",
       "      <th>...</th>\n",
       "      <td>...</td>\n",
       "      <td>...</td>\n",
       "      <td>...</td>\n",
       "      <td>...</td>\n",
       "      <td>...</td>\n",
       "    </tr>\n",
       "    <tr>\n",
       "      <th>382</th>\n",
       "      <td>1600.0</td>\n",
       "      <td>[&lt;div class=\"col-8\"&gt;\\n&lt;p class=\"mt-1\"&gt;\\n&lt;/p&gt;\\n...</td>\n",
       "      <td>[&lt;p&gt;Долнени / Прилеп&lt;/p&gt;]</td>\n",
       "      <td>[&lt;p class=\"mt-3\" style=\"font-size:14px;\"&gt;\\r\\n ...</td>\n",
       "      <td>VW Volkswagen</td>\n",
       "    </tr>\n",
       "    <tr>\n",
       "      <th>383</th>\n",
       "      <td>4150.0</td>\n",
       "      <td>[&lt;div class=\"col-8\"&gt;\\n&lt;p class=\"mt-1\"&gt;\\n&lt;/p&gt;\\n...</td>\n",
       "      <td>[&lt;p&gt;Охрид / Охрид&lt;/p&gt;]</td>\n",
       "      <td>[&lt;p class=\"mt-3\" style=\"font-size:14px;\"&gt;\\r\\n ...</td>\n",
       "      <td>Opel</td>\n",
       "    </tr>\n",
       "    <tr>\n",
       "      <th>384</th>\n",
       "      <td>NaN</td>\n",
       "      <td>[&lt;div class=\"col-8\"&gt;\\n&lt;p class=\"mt-1\"&gt;\\n&lt;/p&gt;\\n...</td>\n",
       "      <td>[&lt;p&gt;Автокоманда / Скопје&lt;/p&gt;]</td>\n",
       "      <td>[&lt;p class=\"mt-3\" style=\"font-size:14px;\"&gt;\\r\\n ...</td>\n",
       "      <td>BMW</td>\n",
       "    </tr>\n",
       "    <tr>\n",
       "      <th>385</th>\n",
       "      <td>2450.0</td>\n",
       "      <td>[&lt;div class=\"col-8\"&gt;\\n&lt;p class=\"mt-1\"&gt;\\n&lt;/p&gt;\\n...</td>\n",
       "      <td>[&lt;p&gt;Тетово / Тетово&lt;/p&gt;]</td>\n",
       "      <td>[&lt;p class=\"mt-3\" style=\"font-size:14px;\"&gt;\\r\\n ...</td>\n",
       "      <td>Ford</td>\n",
       "    </tr>\n",
       "    <tr>\n",
       "      <th>386</th>\n",
       "      <td>4800.0</td>\n",
       "      <td>[&lt;div class=\"col-8\"&gt;\\n&lt;p class=\"mt-1\"&gt;\\n&lt;/p&gt;\\n...</td>\n",
       "      <td>[&lt;p&gt;Охрид / Охрид&lt;/p&gt;]</td>\n",
       "      <td>[&lt;p class=\"mt-3\" style=\"font-size:14px;\"&gt;\\r\\n ...</td>\n",
       "      <td>Mercedes-Benz</td>\n",
       "    </tr>\n",
       "  </tbody>\n",
       "</table>\n",
       "<p>387 rows × 5 columns</p>\n",
       "</div>"
      ],
      "text/plain": [
       "       price                                         other_info  \\\n",
       "0     4200.0  [<div class=\"col-8\">\\n<p class=\"mt-1\">\\n</p>\\n...   \n",
       "1        NaN  [<div class=\"col-8\">\\n<p class=\"mt-1\">\\n</p>\\n...   \n",
       "2    16999.0  [<div class=\"col-8\">\\n<p class=\"mt-1\">\\n</p>\\n...   \n",
       "3        NaN  [<div class=\"col-8\">\\n<p class=\"mt-1\">\\n</p>\\n...   \n",
       "4     8900.0  [<div class=\"col-8\">\\n<p class=\"mt-1\">\\n</p>\\n...   \n",
       "..       ...                                                ...   \n",
       "382   1600.0  [<div class=\"col-8\">\\n<p class=\"mt-1\">\\n</p>\\n...   \n",
       "383   4150.0  [<div class=\"col-8\">\\n<p class=\"mt-1\">\\n</p>\\n...   \n",
       "384      NaN  [<div class=\"col-8\">\\n<p class=\"mt-1\">\\n</p>\\n...   \n",
       "385   2450.0  [<div class=\"col-8\">\\n<p class=\"mt-1\">\\n</p>\\n...   \n",
       "386   4800.0  [<div class=\"col-8\">\\n<p class=\"mt-1\">\\n</p>\\n...   \n",
       "\n",
       "                                              location  \\\n",
       "0                 [<p>Свети Николе / Свети Николе</p>]   \n",
       "1                            [<p>Илинден / Скопје</p>]   \n",
       "2    [<p class=\"text-secondary\"><small>Продавачот п...   \n",
       "3                             [<p>Прилеп / Прилеп</p>]   \n",
       "4                         [<p>Гостивар / Гостивар</p>]   \n",
       "..                                                 ...   \n",
       "382                          [<p>Долнени / Прилеп</p>]   \n",
       "383                             [<p>Охрид / Охрид</p>]   \n",
       "384                      [<p>Автокоманда / Скопје</p>]   \n",
       "385                           [<p>Тетово / Тетово</p>]   \n",
       "386                             [<p>Охрид / Охрид</p>]   \n",
       "\n",
       "                                                  text           make  \n",
       "0    [<p class=\"mt-3\" style=\"font-size:14px;\">\\r\\n ...  VW Volkswagen  \n",
       "1    [<p class=\"mt-3\" style=\"font-size:14px;\">\\r\\n ...           Seat  \n",
       "2    [<p class=\"mt-3\" style=\"font-size:14px;\">\\r\\n ...           Audi  \n",
       "3    [<p class=\"mt-3\" style=\"font-size:14px;\">\\r\\n ...           Opel  \n",
       "4    [<p class=\"mt-3\" style=\"font-size:14px;\">\\r\\n ...           Ford  \n",
       "..                                                 ...            ...  \n",
       "382  [<p class=\"mt-3\" style=\"font-size:14px;\">\\r\\n ...  VW Volkswagen  \n",
       "383  [<p class=\"mt-3\" style=\"font-size:14px;\">\\r\\n ...           Opel  \n",
       "384  [<p class=\"mt-3\" style=\"font-size:14px;\">\\r\\n ...            BMW  \n",
       "385  [<p class=\"mt-3\" style=\"font-size:14px;\">\\r\\n ...           Ford  \n",
       "386  [<p class=\"mt-3\" style=\"font-size:14px;\">\\r\\n ...  Mercedes-Benz  \n",
       "\n",
       "[387 rows x 5 columns]"
      ]
     },
     "execution_count": 220,
     "metadata": {},
     "output_type": "execute_result"
    }
   ],
   "source": [
    "#### get the make of the car\n",
    "df['make'] = df.other_info.apply(lambda x: BeautifulSoup(x).select('div.col-7')[0].text.strip())\n",
    "df"
   ]
  },
  {
   "cell_type": "code",
   "execution_count": 221,
   "metadata": {
    "scrolled": true
   },
   "outputs": [
    {
     "data": {
      "text/plain": [
       "<html><body><p>[</p><div class=\"col-8\">\n",
       "<p class=\"mt-1\">\n",
       "</p>\n",
       "<div class=\"row mt-3\">\n",
       "<div class=\"col-5\">\n",
       "<p class=\"mb-1\">Марка:</p>\n",
       "</div>\n",
       "<div class=\"col-7\" style=\"font-weight:600\">\n",
       "<p class=\"mb-1\">VW Volkswagen</p>\n",
       "</div>\n",
       "<div class=\"col-5\">\n",
       "<p class=\"mb-1\">Модел:</p>\n",
       "</div>\n",
       "<div class=\"col-7\" style=\"font-weight:600\">\n",
       "<p class=\"mb-1\">Golf Plus</p>\n",
       "</div>\n",
       "<div class=\"col-5\">\n",
       "<p class=\"mb-1\">Година:</p>\n",
       "</div>\n",
       "<div class=\"col-7\" style=\"font-weight:600\">\n",
       "<p class=\"mb-1\">2006</p>\n",
       "</div>\n",
       "<div class=\"col-5\">\n",
       "<p class=\"mb-1\">Гориво:</p>\n",
       "</div>\n",
       "<div class=\"col-7\" style=\"font-weight:600\">\n",
       "<p class=\"mb-1\">Дизел</p>\n",
       "</div>\n",
       "<div class=\"col-5\">\n",
       "<p class=\"mb-1\">Километри:</p>\n",
       "</div>\n",
       "<div class=\"col-7\" style=\"font-weight:600\">\n",
       "<p class=\"mb-1\">190000</p>\n",
       "</div>\n",
       "<div class=\"col-5\">\n",
       "<p class=\"mb-1\">Менувач:</p>\n",
       "</div>\n",
       "<div class=\"col-7\" style=\"font-weight:600\">\n",
       "<p class=\"mb-1\">Рачен</p>\n",
       "</div>\n",
       "<div class=\"col-5\">\n",
       "<p class=\"mb-1\">Каросерија:</p>\n",
       "</div>\n",
       "<div class=\"col-7\" style=\"font-weight:600\">\n",
       "<p class=\"mb-1\">Хеџбек</p>\n",
       "</div>\n",
       "<div class=\"col-5\">\n",
       "<p class=\"mb-1\">Боја:</p>\n",
       "</div>\n",
       "<div class=\"col-7\" style=\"font-weight:600\">\n",
       "<p class=\"mb-1\">Сива</p>\n",
       "</div>\n",
       "<div class=\"col-5\">\n",
       "<p class=\"mb-1\">Регистрација:</p>\n",
       "</div>\n",
       "<div class=\"col-7\" style=\"font-weight:600\">\n",
       "<p class=\"mb-1\">Македонска</p>\n",
       "</div>\n",
       "<div class=\"col-5\">\n",
       "<p class=\"mb-1\">Регистрирана до:</p>\n",
       "</div>\n",
       "<div class=\"col-7\" style=\"font-weight:600\">\n",
       "<p class=\"mb-1\">11.2020</p>\n",
       "</div>\n",
       "<div class=\"col-5\">\n",
       "<p class=\"mb-1\">Сила на моторот:</p>\n",
       "</div>\n",
       "<div class=\"col-7\" style=\"font-weight:600\">\n",
       "<p class=\"mb-1\">77 kw / 105 ks</p>\n",
       "</div>\n",
       "<div class=\"col-5\">\n",
       "<p class=\"mb-1\">Kласа на емисија:</p>\n",
       "</div>\n",
       "<div class=\"col-7\" style=\"font-weight:600\">\n",
       "<p class=\"mb-1\">Еуро 4</p>\n",
       "</div>\n",
       "</div>\n",
       "<p class=\"mt-3\" style=\"font-size:14px;\">\n",
       "                                VW GOLF 5 PLUS 1.9TDI 105KS 2006G<br/>PLATENI DAVACKI DO MK TABLI PREVOD NA DOKUMENTI SAMO DA SE REG <br/>2XKLUCA <br/>CLIMATRONIC ISPAVEN <br/>TOP SOSTOJBA<br/>\n",
       "</p>\n",
       "<div class=\"col-lg-12 clear-padding mt-3\"><div id=\"youtubeLink\" style=\"max-width:640px\"></div></div>\n",
       "<p class=\"mt-3\" id=\"categoryDiv\" style=\"font-size:14px;\">\n",
       "                                Категорија: <a class=\"text-secondary mr-5\" href=\"/Search/Index?ad=3790158&amp;cat=1&amp;city=329&amp;pageView=1\"><small>Моторни Возила</small></a> <span style=\"font-size:10px;\">/</span> <a class=\"text-secondary mr-5\" href=\"/Search/Index?ad=3790158&amp;cat=24&amp;city=329&amp;pageView=1\"><small>Автомобили</small></a>\n",
       "</p>\n",
       "</div>]</body></html>"
      ]
     },
     "execution_count": 221,
     "metadata": {},
     "output_type": "execute_result"
    }
   ],
   "source": [
    "### get model \n",
    "BeautifulSoup(df.other_info[0])\n"
   ]
  },
  {
   "cell_type": "code",
   "execution_count": 222,
   "metadata": {},
   "outputs": [],
   "source": [
    "### get model\n",
    "df['model'] = df.other_info.apply(lambda x: BeautifulSoup(x).select('div.col-7')[1].text.strip())\n"
   ]
  },
  {
   "cell_type": "code",
   "execution_count": 223,
   "metadata": {},
   "outputs": [],
   "source": [
    "#### get year of production\n",
    "df['year'] =df.other_info.apply(lambda x: BeautifulSoup(x).select('div.col-7')[2].text.strip())"
   ]
  },
  {
   "cell_type": "code",
   "execution_count": 224,
   "metadata": {},
   "outputs": [],
   "source": [
    "df['fuel'] = df.other_info.apply(lambda x: BeautifulSoup(x).select('div.col-7')[3].text.strip())"
   ]
  },
  {
   "cell_type": "code",
   "execution_count": 225,
   "metadata": {},
   "outputs": [],
   "source": [
    "df['mileage_km'] = df.other_info.apply(lambda x: BeautifulSoup(x).select('div.col-7')[4].text.strip())"
   ]
  },
  {
   "cell_type": "code",
   "execution_count": 226,
   "metadata": {},
   "outputs": [],
   "source": [
    "df['trans'] = df.other_info.apply(lambda x: BeautifulSoup(x).select('div.col-7')[5].text.strip())"
   ]
  },
  {
   "cell_type": "code",
   "execution_count": 227,
   "metadata": {},
   "outputs": [],
   "source": [
    "df['body_type'] = df.other_info.apply(lambda x: BeautifulSoup(x).select('div.col-7')[6].text.strip())"
   ]
  },
  {
   "cell_type": "code",
   "execution_count": 228,
   "metadata": {},
   "outputs": [],
   "source": [
    "df['color'] = df.other_info.apply(lambda x: BeautifulSoup(x).select('div.col-7')[7].text.strip())"
   ]
  },
  {
   "cell_type": "code",
   "execution_count": 229,
   "metadata": {},
   "outputs": [],
   "source": [
    "df['reg'] = df.other_info.apply(lambda x: BeautifulSoup(x).select('div.col-7')[8].text.strip())"
   ]
  },
  {
   "cell_type": "code",
   "execution_count": 230,
   "metadata": {},
   "outputs": [],
   "source": [
    "df['hp'] = df.other_info.apply(lambda x: BeautifulSoup(x).select('div.col-7')[10].text.strip())"
   ]
  },
  {
   "cell_type": "markdown",
   "metadata": {},
   "source": [
    "### THe problem with the 6 cars is that the class of emission is not included"
   ]
  },
  {
   "cell_type": "code",
   "execution_count": 231,
   "metadata": {},
   "outputs": [],
   "source": [
    "def get_class_emission(j):\n",
    "    temp = BeautifulSoup(j.other_info)\n",
    "    try:\n",
    "        return (temp.select('div.col-7')[11].text.strip().replace(\"Еуро\",\"\"))\n",
    "    except:\n",
    "        return 0"
   ]
  },
  {
   "cell_type": "code",
   "execution_count": 232,
   "metadata": {},
   "outputs": [],
   "source": [
    "df['euro'] = df.apply(get_class_emission,axis=1)"
   ]
  },
  {
   "cell_type": "code",
   "execution_count": 233,
   "metadata": {},
   "outputs": [],
   "source": [
    "df.drop('other_info',axis=1,inplace=True)"
   ]
  },
  {
   "cell_type": "markdown",
   "metadata": {},
   "source": [
    "### Get just the number of words in the text"
   ]
  },
  {
   "cell_type": "code",
   "execution_count": 234,
   "metadata": {},
   "outputs": [],
   "source": [
    "df['len_text'] = df.text.apply(lambda x: len(BeautifulSoup(x).text.split()))"
   ]
  },
  {
   "cell_type": "code",
   "execution_count": 235,
   "metadata": {},
   "outputs": [],
   "source": [
    "df.drop(\"text\",axis=1,inplace=True)"
   ]
  },
  {
   "cell_type": "markdown",
   "metadata": {},
   "source": [
    "### Get location"
   ]
  },
  {
   "cell_type": "code",
   "execution_count": 236,
   "metadata": {},
   "outputs": [
    {
     "ename": "IndexError",
     "evalue": "list index out of range",
     "output_type": "error",
     "traceback": [
      "\u001b[0;31m---------------------------------------------------------------------------\u001b[0m",
      "\u001b[0;31mIndexError\u001b[0m                                Traceback (most recent call last)",
      "\u001b[0;32m<ipython-input-236-3c5bd9e211ce>\u001b[0m in \u001b[0;36m<module>\u001b[0;34m\u001b[0m\n\u001b[0;32m----> 1\u001b[0;31m \u001b[0mdf\u001b[0m\u001b[0;34m.\u001b[0m\u001b[0mlocation\u001b[0m\u001b[0;34m.\u001b[0m\u001b[0mapply\u001b[0m\u001b[0;34m(\u001b[0m\u001b[0;32mlambda\u001b[0m \u001b[0mx\u001b[0m\u001b[0;34m:\u001b[0m \u001b[0mBeautifulSoup\u001b[0m\u001b[0;34m(\u001b[0m\u001b[0mx\u001b[0m\u001b[0;34m)\u001b[0m\u001b[0;34m.\u001b[0m\u001b[0mtext\u001b[0m\u001b[0;34m.\u001b[0m\u001b[0msplit\u001b[0m\u001b[0;34m(\u001b[0m\u001b[0;34m\"/\"\u001b[0m\u001b[0;34m)\u001b[0m\u001b[0;34m[\u001b[0m\u001b[0;36m1\u001b[0m\u001b[0;34m]\u001b[0m\u001b[0;34m)\u001b[0m\u001b[0;34m\u001b[0m\u001b[0;34m\u001b[0m\u001b[0m\n\u001b[0m",
      "\u001b[0;32m~/anaconda3/lib/python3.7/site-packages/pandas/core/series.py\u001b[0m in \u001b[0;36mapply\u001b[0;34m(self, func, convert_dtype, args, **kwds)\u001b[0m\n\u001b[1;32m   3846\u001b[0m             \u001b[0;32melse\u001b[0m\u001b[0;34m:\u001b[0m\u001b[0;34m\u001b[0m\u001b[0;34m\u001b[0m\u001b[0m\n\u001b[1;32m   3847\u001b[0m                 \u001b[0mvalues\u001b[0m \u001b[0;34m=\u001b[0m \u001b[0mself\u001b[0m\u001b[0;34m.\u001b[0m\u001b[0mastype\u001b[0m\u001b[0;34m(\u001b[0m\u001b[0mobject\u001b[0m\u001b[0;34m)\u001b[0m\u001b[0;34m.\u001b[0m\u001b[0mvalues\u001b[0m\u001b[0;34m\u001b[0m\u001b[0;34m\u001b[0m\u001b[0m\n\u001b[0;32m-> 3848\u001b[0;31m                 \u001b[0mmapped\u001b[0m \u001b[0;34m=\u001b[0m \u001b[0mlib\u001b[0m\u001b[0;34m.\u001b[0m\u001b[0mmap_infer\u001b[0m\u001b[0;34m(\u001b[0m\u001b[0mvalues\u001b[0m\u001b[0;34m,\u001b[0m \u001b[0mf\u001b[0m\u001b[0;34m,\u001b[0m \u001b[0mconvert\u001b[0m\u001b[0;34m=\u001b[0m\u001b[0mconvert_dtype\u001b[0m\u001b[0;34m)\u001b[0m\u001b[0;34m\u001b[0m\u001b[0;34m\u001b[0m\u001b[0m\n\u001b[0m\u001b[1;32m   3849\u001b[0m \u001b[0;34m\u001b[0m\u001b[0m\n\u001b[1;32m   3850\u001b[0m         \u001b[0;32mif\u001b[0m \u001b[0mlen\u001b[0m\u001b[0;34m(\u001b[0m\u001b[0mmapped\u001b[0m\u001b[0;34m)\u001b[0m \u001b[0;32mand\u001b[0m \u001b[0misinstance\u001b[0m\u001b[0;34m(\u001b[0m\u001b[0mmapped\u001b[0m\u001b[0;34m[\u001b[0m\u001b[0;36m0\u001b[0m\u001b[0;34m]\u001b[0m\u001b[0;34m,\u001b[0m \u001b[0mSeries\u001b[0m\u001b[0;34m)\u001b[0m\u001b[0;34m:\u001b[0m\u001b[0;34m\u001b[0m\u001b[0;34m\u001b[0m\u001b[0m\n",
      "\u001b[0;32mpandas/_libs/lib.pyx\u001b[0m in \u001b[0;36mpandas._libs.lib.map_infer\u001b[0;34m()\u001b[0m\n",
      "\u001b[0;32m<ipython-input-236-3c5bd9e211ce>\u001b[0m in \u001b[0;36m<lambda>\u001b[0;34m(x)\u001b[0m\n\u001b[0;32m----> 1\u001b[0;31m \u001b[0mdf\u001b[0m\u001b[0;34m.\u001b[0m\u001b[0mlocation\u001b[0m\u001b[0;34m.\u001b[0m\u001b[0mapply\u001b[0m\u001b[0;34m(\u001b[0m\u001b[0;32mlambda\u001b[0m \u001b[0mx\u001b[0m\u001b[0;34m:\u001b[0m \u001b[0mBeautifulSoup\u001b[0m\u001b[0;34m(\u001b[0m\u001b[0mx\u001b[0m\u001b[0;34m)\u001b[0m\u001b[0;34m.\u001b[0m\u001b[0mtext\u001b[0m\u001b[0;34m.\u001b[0m\u001b[0msplit\u001b[0m\u001b[0;34m(\u001b[0m\u001b[0;34m\"/\"\u001b[0m\u001b[0;34m)\u001b[0m\u001b[0;34m[\u001b[0m\u001b[0;36m1\u001b[0m\u001b[0;34m]\u001b[0m\u001b[0;34m)\u001b[0m\u001b[0;34m\u001b[0m\u001b[0;34m\u001b[0m\u001b[0m\n\u001b[0m",
      "\u001b[0;31mIndexError\u001b[0m: list index out of range"
     ]
    }
   ],
   "source": [
    "df.location.apply(lambda x: BeautifulSoup(x).text.split(\"/\")[1])"
   ]
  },
  {
   "cell_type": "code",
   "execution_count": null,
   "metadata": {},
   "outputs": [],
   "source": [
    "def get_location(j):\n",
    "    temp = BeautifulSoup(j.location)\n",
    "    try:\n",
    "        return temp.text.split(\"/\")[1].replace(\"]\",\"\").strip()\n",
    "    except IndexError:\n",
    "        return temp.text.split('/')[0].replace(\"Продавачот прифаќа предлози за цена\",\"\").replace(\",\",\"\").replace('[',\"\").replace(\"]\",\"\").strip()"
   ]
  },
  {
   "cell_type": "code",
   "execution_count": null,
   "metadata": {},
   "outputs": [],
   "source": [
    "df.location = df.apply(get_location,axis=1)"
   ]
  },
  {
   "cell_type": "markdown",
   "metadata": {},
   "source": [
    "### The last thing to fix is the hp, it has both kw and hp"
   ]
  },
  {
   "cell_type": "code",
   "execution_count": null,
   "metadata": {},
   "outputs": [],
   "source": [
    "def fix_hp(j):\n",
    "    try:\n",
    "        return int(j.hp.split(\"/\")[1].replace(\"ks\",\"\"))\n",
    "    except:\n",
    "        return np.nan"
   ]
  },
  {
   "cell_type": "code",
   "execution_count": null,
   "metadata": {},
   "outputs": [],
   "source": [
    "df.hp = df.apply(fix_hp,axis=1)"
   ]
  },
  {
   "cell_type": "markdown",
   "metadata": {},
   "source": [
    "### so 4 of them have the class of emission in the hp section"
   ]
  },
  {
   "cell_type": "code",
   "execution_count": null,
   "metadata": {},
   "outputs": [],
   "source": [
    "df"
   ]
  },
  {
   "cell_type": "code",
   "execution_count": null,
   "metadata": {},
   "outputs": [],
   "source": []
  },
  {
   "cell_type": "code",
   "execution_count": null,
   "metadata": {},
   "outputs": [],
   "source": []
  }
 ],
 "metadata": {
  "kernelspec": {
   "display_name": "Python 3",
   "language": "python",
   "name": "python3"
  },
  "language_info": {
   "codemirror_mode": {
    "name": "ipython",
    "version": 3
   },
   "file_extension": ".py",
   "mimetype": "text/x-python",
   "name": "python",
   "nbconvert_exporter": "python",
   "pygments_lexer": "ipython3",
   "version": "3.7.6"
  }
 },
 "nbformat": 4,
 "nbformat_minor": 4
}
